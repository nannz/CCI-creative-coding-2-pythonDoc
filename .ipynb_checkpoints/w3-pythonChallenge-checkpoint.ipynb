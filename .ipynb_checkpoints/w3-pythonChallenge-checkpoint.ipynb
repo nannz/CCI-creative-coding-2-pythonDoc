{
 "cells": [
  {
   "cell_type": "code",
   "execution_count": 1,
   "metadata": {},
   "outputs": [],
   "source": [
    "#the week 1 python challenge"
   ]
  },
  {
   "cell_type": "code",
   "execution_count": 8,
   "metadata": {},
   "outputs": [
    {
     "name": "stdout",
     "output_type": "stream",
     "text": [
      "274877906944\n"
     ]
    }
   ],
   "source": [
    "#python challenge 0\n",
    "x = 1\n",
    "for i in range(38):\n",
    "    x = x * 2\n",
    "    #print(x)\n",
    "    \n",
    "print(x)"
   ]
  },
  {
   "cell_type": "code",
   "execution_count": 59,
   "metadata": {},
   "outputs": [
    {
     "name": "stdout",
     "output_type": "stream",
     "text": [
      "ai hope you didnt translate it by hand. thats what computers are for. doing it in by hand is inefficient and that's why this text is so long. using string.maketrans() is recommended. now apply on the url.\n"
     ]
    }
   ],
   "source": [
    "#python challenge 1\n",
    "#swap english letters\n",
    "challengeWords = \"g fmnc wms bgblr rpylqjyrc gr zw fylb. rfyrq ufyr amknsrcpq ypc dmp. bmgle gr gl zw fylb gq glcddgagclr ylb rfyr'q ufw rfgq rcvr gq qm jmle. sqgle qrpgle.kyicrpylq() gq pcamkkclbcb. lmu ynnjw ml rfc spj.\"\n",
    "\n",
    "testWords = \"a\"\n",
    "engLetters = \"abcdefghijklmnopqrstuvwxyz\"\n",
    "for x in testWords:\n",
    "    i = engLetters.index(x)\n",
    "    #print(i)\n",
    "for x in challengeWords:\n",
    "    if(x != \" \" and x != \".\" and x != \"(\" and x != \"'\" and x != \")\"):\n",
    "        #print(x)\n",
    "        i = engLetters.index(x)\n",
    "        old_i = challengeWords.index(x)\n",
    "        #print(old_i)\n",
    "        #print(i)\n",
    "        if (i==24):\n",
    "            i = 0\n",
    "        elif (i==25):\n",
    "            i = 1\n",
    "        else:\n",
    "            i += 2\n",
    "        y = engLetters[i]\n",
    "        testWords+=y\n",
    "    else:\n",
    "        testWords += x\n",
    "print(testWords)"
   ]
  },
  {
   "cell_type": "code",
   "execution_count": 8,
   "metadata": {},
   "outputs": [
    {
     "name": "stdout",
     "output_type": "stream",
     "text": [
      "{'\\n': 1223, '%': 6104, '$': 6046, '@': 6157, '_': 6112, '^': 6030, '#': 6115, ')': 6186, '&': 6043, '!': 6079, '+': 6066, ']': 6152, '*': 6034, '}': 6105, '[': 6108, '(': 6154, '{': 6046, 'e': 1, 'q': 1, 'u': 1, 'a': 1, 'l': 1, 'i': 1, 't': 1, 'y': 1}\n"
     ]
    }
   ],
   "source": [
    "#python challenge 2\n",
    "data = open('challenge-2.txt').read()\n",
    "#print(data)\n",
    "#print(type(data))\n",
    "mydict = {\n",
    "  \"test\": -1\n",
    "}\n",
    "\n",
    "count = {}\n",
    "for c in data:\n",
    "    count[c] = count.get(c, 0) + 1\n",
    "print(count)"
   ]
  },
  {
   "cell_type": "code",
   "execution_count": 1,
   "metadata": {},
   "outputs": [
    {
     "name": "stdout",
     "output_type": "stream",
     "text": [
      "101249\n",
      "['l', 'i', 'n', 'k', 'e', 'd', 'l', 'i', 's', 't']\n",
      "linkedlist\n"
     ]
    }
   ],
   "source": [
    "#python challenge 3\n",
    "# http://www.pythonchallenge.com/pc/def/equality.html\n",
    "import re\n",
    "#https://www.w3schools.com/python/python_regex.asp\n",
    "\n",
    "data = open('challenge-3.txt').read()\n",
    "newData = data.replace(\"\\n\", \"\")\n",
    "#data = \"HHHiLLL\"#\"HHHyKKKiLhEKKKdKLLaHHHHiHHSH\"\n",
    "#print(type(data))\n",
    "print(len(data))\n",
    "newData = re.findall(\"[^A-Z]+[A-Z]{3}([a-z])[A-Z]{3}[^A-Z]+\", data)\n",
    "print(newData)\n",
    "print(\"\".join(newData))"
   ]
  },
  {
   "cell_type": "code",
   "execution_count": 1,
   "metadata": {},
   "outputs": [
    {
     "name": "stdout",
     "output_type": "stream",
     "text": [
      "44827\n"
     ]
    }
   ],
   "source": [
    "#python challenge 4\n",
    "# http://www.pythonchallenge.com/pc/def/linkedlist.php\n",
    "# hint: follow the chain\n",
    "# urllib may help. DON'T TRY ALL NOTHINGS, since it will never end. 400 times is more than enough. \n",
    "# IRC: irc.freenode.net #pythonchallenge\n",
    "# remember to click on the image!\n",
    "import urllib.request\n",
    "import re\n",
    "url = \"http://www.pythonchallenge.com/pc/def/linkedlist.php?nothing=%s\"\n",
    "num = \"12345\"\n",
    "num2 = \"44827\"\n",
    "num3 = \"45439\"\n",
    "num4 = \"94485\"\n",
    "\n",
    "def url_func(_num):\n",
    "    bytes_result = urllib.request.urlopen(url % _num).read()\n",
    "    result = str(bytes_result, 'utf-8')\n",
    "    x = \"\".join(re.findall(\"and the next nothing is (\\d+)\", result))\n",
    "    newNum = result[-5:]\n",
    "    return x\n",
    "    #url_func(newNum)\n",
    "\n",
    "\n",
    "\n",
    "result_num = url_func(num)\n",
    "print(result_num)"
   ]
  },
  {
   "cell_type": "code",
   "execution_count": 40,
   "metadata": {},
   "outputs": [
    {
     "name": "stdout",
     "output_type": "stream",
     "text": [
      "width is 629, height is 95\n",
      "(79, 92, 23, 255)\n",
      "smart guy, you made it. the next level is [105, 110, 116, 101, 103, 114, 105, 116, 121]\n",
      "['105', '110', '116', '101', '103', '114', '105', '116', '121']\n",
      "integrity\n"
     ]
    }
   ],
   "source": [
    "#python challenge 7\n",
    "# http://www.pythonchallenge.com/pc/def/oxygen.html\n",
    "# first install pillow in terminal: $ pip3 install pillow\n",
    "\n",
    "# load image from URL\n",
    "import requests\n",
    "from io import BytesIO\n",
    "# load the Image module from pillow\n",
    "from PIL import Image\n",
    "img = Image.open(BytesIO(requests.get('http://www.pythonchallenge.com/pc/def/oxygen.png').content))\n",
    "\n",
    "print(\"width is {}, height is {}\".format(img.width,img.height))\n",
    "#get pixel on RGBA value\n",
    "print(img.getpixel((0,0)))\n",
    "#get pixel value on the middle row\n",
    "row = [img.getpixel((x, img.height / 2)) for x in range(img.width)]\n",
    "row2 = [row[0]]\n",
    "for x in row:\n",
    "    if x != row2[-1]:\n",
    "        row2.append(x)\n",
    "    #if x not in row2:\n",
    "        #row2.append(x)\n",
    "#print(type(row))\n",
    "#print(row2)\n",
    "\n",
    "row3 = []\n",
    "for x in row2:\n",
    "    r = x[0]\n",
    "    g = x[1]\n",
    "    b = x[2]\n",
    "    if ( r == b == g):\n",
    "        row3.append(x[0])\n",
    "#print(row3)\n",
    "output  = \"\".join(map(chr, row3))\n",
    "#print(output)\n",
    "\n",
    "#标准答案\n",
    "newrow  = row[::7]\n",
    "#print(newrow)\n",
    "ords = [r for r, g, b, a in newrow if r == g == b]\n",
    "#print(ords)\n",
    "out2 = \"\".join(map(chr, ords))\n",
    "print(out2)\n",
    "nums = re.findall(\"\\d+\", \"\".join(map(chr, ords)))\n",
    "print(nums)\n",
    "out3 = \"\".join(map(chr, map(int, nums)))\n",
    "print(out3)"
   ]
  },
  {
   "cell_type": "code",
   "execution_count": null,
   "metadata": {},
   "outputs": [],
   "source": [
    "## My Challenge Hahaha\n",
    "# Text to Ascii: 104 97 112 112 121 32 110 101 119 32 121 101 97 114 33 \n"
   ]
  }
 ],
 "metadata": {
  "kernelspec": {
   "display_name": "Python 3",
   "language": "python",
   "name": "python3"
  },
  "language_info": {
   "codemirror_mode": {
    "name": "ipython",
    "version": 3
   },
   "file_extension": ".py",
   "mimetype": "text/x-python",
   "name": "python",
   "nbconvert_exporter": "python",
   "pygments_lexer": "ipython3",
   "version": "3.8.5"
  }
 },
 "nbformat": 4,
 "nbformat_minor": 4
}
